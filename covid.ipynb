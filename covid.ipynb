{
 "cells": [
  {
   "cell_type": "markdown",
   "metadata": {},
   "source": [
    "# Prompting on Liar Dataset"
   ]
  },
  {
   "cell_type": "markdown",
   "metadata": {},
   "source": [
    "## Dataset Setup"
   ]
  },
  {
   "cell_type": "code",
   "execution_count": 1,
   "metadata": {},
   "outputs": [],
   "source": [
    "import os\n",
    "# os.environ[\"PYTORCH_CUDA_ALLOC_CONF\"]=\"expandable_segments:True\""
   ]
  },
  {
   "cell_type": "code",
   "execution_count": 2,
   "metadata": {},
   "outputs": [
    {
     "data": {
      "text/plain": [
       "DatasetDict({\n",
       "    train: Dataset({\n",
       "        features: ['id', 'tweet', 'label'],\n",
       "        num_rows: 6420\n",
       "    })\n",
       "    validation: Dataset({\n",
       "        features: ['id', 'tweet', 'label'],\n",
       "        num_rows: 2140\n",
       "    })\n",
       "    test: Dataset({\n",
       "        features: ['id', 'tweet', 'label'],\n",
       "        num_rows: 2140\n",
       "    })\n",
       "})"
      ]
     },
     "execution_count": 2,
     "metadata": {},
     "output_type": "execute_result"
    }
   ],
   "source": [
    "import datasets\n",
    "\n",
    "# covid-19 section of \n",
    "# @misc{patwa2020fighting,\n",
    "# title={Fighting an Infodemic: COVID-19 Fake News Dataset}, \n",
    "# author={Parth Patwa and Shivam Sharma and Srinivas PYKL and Vineeth Guptha and Gitanjali Kumari and Md Shad Akhtar and Asif Ekbal and Amitava Das and Tanmoy Chakraborty},\n",
    "# year={2020},\n",
    "# eprint={2011.03327},\n",
    "# archivePrefix={arXiv},\n",
    "# primaryClass={cs.CL}\n",
    "# }\n",
    "\n",
    "ds = datasets.load_dataset(\"nanyy1025/covid_fake_news\")\n",
    "ds"
   ]
  },
  {
   "cell_type": "code",
   "execution_count": 3,
   "metadata": {},
   "outputs": [],
   "source": [
    "train = ds[\"train\"]\n",
    "test = ds[\"test\"]\n",
    "val = ds[\"validation\"]"
   ]
  },
  {
   "cell_type": "code",
   "execution_count": 4,
   "metadata": {},
   "outputs": [
    {
     "name": "stderr",
     "output_type": "stream",
     "text": [
      "/home/016854656/miniconda3/envs/torch/lib/python3.11/site-packages/datasets/table.py:1421: FutureWarning: promote has been superseded by mode='default'.\n",
      "  table = cls._concat_blocks(blocks, axis=0)\n"
     ]
    },
    {
     "data": {
      "text/plain": [
       "Dataset({\n",
       "    features: ['id', 'tweet', 'label'],\n",
       "    num_rows: 10700\n",
       "})"
      ]
     },
     "execution_count": 4,
     "metadata": {},
     "output_type": "execute_result"
    }
   ],
   "source": [
    "ds = datasets.concatenate_datasets([train, test, val])\n",
    "ds"
   ]
  },
  {
   "cell_type": "markdown",
   "metadata": {},
   "source": [
    "## Model Loading"
   ]
  },
  {
   "cell_type": "code",
   "execution_count": 5,
   "metadata": {},
   "outputs": [],
   "source": [
    "falcon = \"tiiuae/falcon-7b-instruct\"\n",
    "llama = \"meta-llama/Llama-2-7b-chat-hf\"\n",
    "mistral = \"mistralai/Mistral-7B-Instruct-v0.2\"\n",
    "orca = \"microsoft/Orca-2-7b\"\n",
    "gemma = \"google/gemma-7b-it\""
   ]
  },
  {
   "cell_type": "code",
   "execution_count": 6,
   "metadata": {},
   "outputs": [],
   "source": [
    "# change this depending on experiment\n",
    "model_name = llama"
   ]
  },
  {
   "cell_type": "code",
   "execution_count": 7,
   "metadata": {},
   "outputs": [],
   "source": [
    "mistral_device_map = {'model.embed_tokens': 0,\n",
    " 'model.layers.0': 0,\n",
    " 'model.layers.1': 0,\n",
    " 'model.layers.2': 0,\n",
    " 'model.layers.3': 0,\n",
    " 'model.layers.4': 0,\n",
    " 'model.layers.5': 0,\n",
    " 'model.layers.6': 0,\n",
    " 'model.layers.7': 0,\n",
    " 'model.layers.8': 0,\n",
    " 'model.layers.9': 0,\n",
    " 'model.layers.10': 0,\n",
    " 'model.layers.11': 0,\n",
    " 'model.layers.12': 0,\n",
    " 'model.layers.13': 0,\n",
    " 'model.layers.14': 0,\n",
    " 'model.layers.15': 0,\n",
    " 'model.layers.16': 0,\n",
    " 'model.layers.17': 0,\n",
    " 'model.layers.18': 0,\n",
    " 'model.layers.19': 0,\n",
    " 'model.layers.20': 1,\n",
    " 'model.layers.21': 1,\n",
    " 'model.layers.22': 1,\n",
    " 'model.layers.23': 1,\n",
    " 'model.layers.24': 1,\n",
    " 'model.layers.25': 1,\n",
    " 'model.layers.26': 1,\n",
    " 'model.layers.27': 1,\n",
    " 'model.layers.28': 1,\n",
    " 'model.layers.29': 1,\n",
    " 'model.layers.30': 1,\n",
    " 'model.layers.31': 1,\n",
    " 'model.norm': 1,\n",
    " 'lm_head': 1}"
   ]
  },
  {
   "cell_type": "code",
   "execution_count": 8,
   "metadata": {},
   "outputs": [],
   "source": [
    "gemma_device_map = {'model.embed_tokens': 0,\n",
    " 'lm_head': 0,\n",
    " 'model.layers.0': 0,\n",
    " 'model.layers.1': 0,\n",
    " 'model.layers.2': 0,\n",
    " 'model.layers.3': 0,\n",
    " 'model.layers.4': 0,\n",
    " 'model.layers.5': 0,\n",
    " 'model.layers.6': 0,\n",
    " 'model.layers.7': 0,\n",
    " 'model.layers.8': 0,\n",
    " 'model.layers.9': 0,\n",
    " 'model.layers.10': 0,\n",
    " 'model.layers.11': 0,\n",
    " 'model.layers.12': 0,\n",
    " 'model.layers.13': 0,\n",
    " 'model.layers.14': 0,\n",
    " 'model.layers.15': 0,\n",
    " 'model.layers.16': 0,\n",
    " 'model.layers.17': 1,\n",
    " 'model.layers.18': 1,\n",
    " 'model.layers.19': 1,\n",
    " 'model.layers.20': 1,\n",
    " 'model.layers.21': 1,\n",
    " 'model.layers.22': 1,\n",
    " 'model.layers.23': 1,\n",
    " 'model.layers.24': 1,\n",
    " 'model.layers.25': 1,\n",
    " 'model.layers.26': 1,\n",
    " 'model.layers.27': 1,\n",
    " 'model.norm': 0}"
   ]
  },
  {
   "cell_type": "code",
   "execution_count": 9,
   "metadata": {},
   "outputs": [],
   "source": [
    "llama_device_map= {'model.embed_tokens': 0,\n",
    " 'model.layers.0': 0,\n",
    " 'model.layers.1': 0,\n",
    " 'model.layers.2': 0,\n",
    " 'model.layers.3': 0,\n",
    " 'model.layers.4': 0,\n",
    " 'model.layers.5': 0,\n",
    " 'model.layers.6': 0,\n",
    " 'model.layers.7': 0,\n",
    " 'model.layers.8': 0,\n",
    " 'model.layers.9': 0,\n",
    " 'model.layers.10': 0,\n",
    " 'model.layers.11': 0,\n",
    " 'model.layers.12': 0,\n",
    " 'model.layers.13': 0,\n",
    " 'model.layers.14': 0,\n",
    " 'model.layers.15': 0,\n",
    " 'model.layers.16': 0,\n",
    " 'model.layers.17': 0,\n",
    " 'model.layers.18': 1,\n",
    " 'model.layers.19': 1,\n",
    " 'model.layers.20': 1,\n",
    " 'model.layers.21': 1,\n",
    " 'model.layers.22': 1,\n",
    " 'model.layers.23': 1,\n",
    " 'model.layers.24': 1,\n",
    " 'model.layers.25': 1,\n",
    " 'model.layers.26': 1,\n",
    " 'model.layers.27': 1,\n",
    " 'model.layers.28': 1,\n",
    " 'model.layers.29': 1,\n",
    " 'model.layers.30': 1,\n",
    " 'model.layers.31': 1,\n",
    " 'model.norm': 1,\n",
    " 'lm_head': 1}"
   ]
  },
  {
   "cell_type": "code",
   "execution_count": 10,
   "metadata": {},
   "outputs": [],
   "source": [
    "device_map = {\n",
    "    llama: llama_device_map,\n",
    "    mistral: mistral_device_map,\n",
    "    gemma: gemma_device_map,\n",
    "    falcon: \"auto\",\n",
    "    orca: \"auto\"\n",
    "}"
   ]
  },
  {
   "cell_type": "code",
   "execution_count": 11,
   "metadata": {},
   "outputs": [
    {
     "name": "stderr",
     "output_type": "stream",
     "text": [
      "`low_cpu_mem_usage` was None, now set to True since model is quantized.\n"
     ]
    },
    {
     "data": {
      "application/vnd.jupyter.widget-view+json": {
       "model_id": "4c49af98f02e47b6a0419fe6cf2d99a7",
       "version_major": 2,
       "version_minor": 0
      },
      "text/plain": [
       "Loading checkpoint shards:   0%|          | 0/2 [00:00<?, ?it/s]"
      ]
     },
     "metadata": {},
     "output_type": "display_data"
    },
    {
     "name": "stderr",
     "output_type": "stream",
     "text": [
      "You are calling `save_pretrained` to a 4-bit converted model, but your `bitsandbytes` version doesn't support it. If you want to save 4-bit models, make sure to have `bitsandbytes>=0.41.3` installed.\n"
     ]
    }
   ],
   "source": [
    "import torch\n",
    "from transformers import AutoTokenizer, AutoModelForCausalLM, BitsAndBytesConfig\n",
    "\n",
    "# torch.backends.cuda.matmul.allow_tf32 = True\n",
    "\n",
    "config = BitsAndBytesConfig(load_in_4bit=True, bnb_4bit_compute_dtype=torch.bfloat16)\n",
    "tokenizer = AutoTokenizer.from_pretrained(model_name)\n",
    "model = AutoModelForCausalLM.from_pretrained(model_name, quantization_config=config)\n",
    "# model = AutoModelForCausalLM.from_pretrained(\n",
    "#     model_name, device_map=device_map[model_name], torch_dtype = torch.bfloat16 # quantization_config=config, \n",
    "# )\n"
   ]
  },
  {
   "cell_type": "markdown",
   "metadata": {},
   "source": [
    "## Experiment"
   ]
  },
  {
   "cell_type": "markdown",
   "metadata": {},
   "source": [
    "### Experiment Utils"
   ]
  },
  {
   "cell_type": "code",
   "execution_count": 12,
   "metadata": {},
   "outputs": [],
   "source": [
    "from transformers import PreTrainedTokenizer\n",
    "from typing import Dict\n",
    "\n",
    "LABEL_MAP = {\n",
    "    \"real\":[\"A\", \"True\"],\n",
    "    \"fake\":[\"B\", \"False\"]\n",
    "}\n",
    "\n",
    "\n",
    "def was_correct(\n",
    "    decoded:str, entry: Dict[str, int]\n",
    ") -> bool:\n",
    "    return any(map(lambda el: el.lower() in decoded.lower(), LABEL_MAP[entry[\"label\"]]))"
   ]
  },
  {
   "cell_type": "code",
   "execution_count": 13,
   "metadata": {},
   "outputs": [],
   "source": [
    "n_examples = 0"
   ]
  },
  {
   "cell_type": "code",
   "execution_count": 14,
   "metadata": {},
   "outputs": [
    {
     "data": {
      "text/plain": [
       "{'id': Value(dtype='int64', id=None),\n",
       " 'tweet': Value(dtype='string', id=None),\n",
       " 'label': Value(dtype='string', id=None)}"
      ]
     },
     "execution_count": 14,
     "metadata": {},
     "output_type": "execute_result"
    }
   ],
   "source": [
    "ds.features"
   ]
  },
  {
   "cell_type": "code",
   "execution_count": 15,
   "metadata": {},
   "outputs": [
    {
     "data": {
      "text/plain": [
       "{'id': 1,\n",
       " 'tweet': 'The CDC currently reports 99031 deaths. In general the discrepancies in death counts between different sources are small and explicable. The death toll stands at roughly 100000 people today.',\n",
       " 'label': 'real'}"
      ]
     },
     "execution_count": 15,
     "metadata": {},
     "output_type": "execute_result"
    }
   ],
   "source": [
    "ds[0]"
   ]
  },
  {
   "cell_type": "code",
   "execution_count": 16,
   "metadata": {},
   "outputs": [],
   "source": [
    "import random\n",
    "random.seed(1770)\n",
    "entries = random.choices(list(range(len(ds))), k=n_examples)\n",
    "MAX_LEN=256\n",
    "\n",
    "def to_zero_shot_prompt(entry: Dict[str, str]) -> str:\n",
    "    prompt = f\"\"\"Please select the option (A or B) that most closely describes the following claim: {entry['tweet'][:MAX_LEN]}\\n\\n(A) True\\n(B) False\\n\\nChoice: (\"\"\"\n",
    "    return prompt\n",
    "\n",
    "def to_n_shot_prompt(n: int, entry: Dict[str, str]) -> str:\n",
    "    examples = \"\"\n",
    "    for i in range(n):\n",
    "        examples += to_zero_shot_prompt(ds[entries[i]]) + LABEL_MAP[ds[entries[i]]['label']] + \"\\n\\n\"\n",
    "    prompt = to_zero_shot_prompt(entry)\n",
    "    return examples + prompt"
   ]
  },
  {
   "cell_type": "code",
   "execution_count": 17,
   "metadata": {},
   "outputs": [],
   "source": [
    "responses: Dict[str, list] = {}\n",
    "\n",
    "def workflow(idx:int, entry: dict, model, k:int=0, verbose: bool = False) -> bool:\n",
    "    # encode input, move it to cuda, then generate\n",
    "    encoded_input = tokenizer(entry['prompt'], return_tensors=\"pt\")\n",
    "    encoded_input = {item: val.cuda() for item, val in encoded_input.items()}\n",
    "    generation = model.generate(\n",
    "        **encoded_input,\n",
    "        max_new_tokens=1,\n",
    "        do_sample=True,\n",
    "        pad_token_id=tokenizer.eos_token_id\n",
    "    )\n",
    "\n",
    "    # log the prompt and response if verbose\n",
    "    if verbose:\n",
    "        print(tokenizer.batch_decode(generation)[0])\n",
    "\n",
    "    decoded = tokenizer.decode(generation[0, -1])\n",
    "    correct = was_correct(decoded, entry)\n",
    "    \n",
    "    if decoded not in responses:\n",
    "        responses[decoded] = []\n",
    "    responses[decoded].append(idx)\n",
    "\n",
    "    if verbose:\n",
    "        print(\n",
    "            \"The model was\",\n",
    "            \"correct\" if correct else \"incorrect\",\n",
    "            \" - responded\",\n",
    "            tokenizer.decode(generation[0, -1]),\n",
    "            \"and answer should have been\",\n",
    "            LABEL_MAP[entry[\"label\"]],\n",
    "        )\n",
    "    return correct"
   ]
  },
  {
   "cell_type": "markdown",
   "metadata": {},
   "source": [
    "### Verify it works"
   ]
  },
  {
   "cell_type": "code",
   "execution_count": 18,
   "metadata": {},
   "outputs": [
    {
     "data": {
      "text/plain": [
       "Dataset({\n",
       "    features: ['id', 'tweet', 'label', 'prompt'],\n",
       "    num_rows: 10700\n",
       "})"
      ]
     },
     "execution_count": 18,
     "metadata": {},
     "output_type": "execute_result"
    }
   ],
   "source": [
    "ds = ds.map(lambda e: {\"prompt\":to_n_shot_prompt(n_examples, e)})\n",
    "ds"
   ]
  },
  {
   "cell_type": "code",
   "execution_count": 19,
   "metadata": {},
   "outputs": [
    {
     "name": "stdout",
     "output_type": "stream",
     "text": [
      "<s> Please select the option (A or B) that most closely describes the following claim: #PublicHealthReports has announced a Call for Papers on #COVID19 inviting #publichealth practitioners and academic researchers to share challenges lessons learned and opportunities for public health practice. Learn more here: https://t.co/mhm9gxCn3o. https\n",
      "\n",
      "(A) True\n",
      "(B) False\n",
      "\n",
      "Choice: (A\n",
      "The model was correct  - responded A and answer should have been ['A', 'True']\n"
     ]
    },
    {
     "data": {
      "text/plain": [
       "True"
      ]
     },
     "execution_count": 19,
     "metadata": {},
     "output_type": "execute_result"
    }
   ],
   "source": [
    "import random\n",
    "workflow(0, ds[random.randint(0, len(ds) - 1)], model, verbose=True, k=n_examples)"
   ]
  },
  {
   "cell_type": "code",
   "execution_count": 20,
   "metadata": {},
   "outputs": [],
   "source": [
    "responses = {}"
   ]
  },
  {
   "cell_type": "markdown",
   "metadata": {},
   "source": [
    "### Run Experiment"
   ]
  },
  {
   "cell_type": "markdown",
   "metadata": {},
   "source": [
    "Results of zero-shot prompting the models"
   ]
  },
  {
   "cell_type": "code",
   "execution_count": 21,
   "metadata": {},
   "outputs": [],
   "source": [
    "dl = torch.utils.data.DataLoader(ds, batch_size=8)"
   ]
  },
  {
   "cell_type": "code",
   "execution_count": 22,
   "metadata": {},
   "outputs": [],
   "source": [
    "responses: Dict[str, list] = {}\n",
    "\n",
    "# def batched_was_correct(decoded, entry):\n",
    "#     tensored = \n",
    "\n",
    "def workflow_batch(idx:int, entry: dict, model, verbose: bool = False) -> bool:\n",
    "    # encode input, move it to cuda, then generate\n",
    "    encoded_input = tokenizer(entry['prompt'], return_tensors=\"pt\", padding='max_length')\n",
    "    encoded_input = {item: val.cuda() for item, val in encoded_input.items()}\n",
    "    generation = model.generate(\n",
    "        **encoded_input,\n",
    "        max_new_tokens=1,\n",
    "        do_sample=False,\n",
    "        pad_token_id=tokenizer.eos_token_id,\n",
    "    )\n",
    "\n",
    "    # log the prompt and response if verbose\n",
    "    if verbose:\n",
    "        print(tokenizer.batch_decode(generation)[0])\n",
    "\n",
    "    decoded = tokenizer.decode(generation[:, -1])\n",
    "    correct = was_correct(decoded, entry)\n",
    "    \n",
    "    if decoded not in responses:\n",
    "        responses[decoded] = []\n",
    "    responses[decoded].append(idx)\n",
    "\n",
    "    if verbose:\n",
    "        print(\n",
    "            \"The model was\",\n",
    "            \"correct\" if correct else \"incorrect\",\n",
    "            \" - responded\",\n",
    "            tokenizer.decode(generation[0, -1]),\n",
    "            \"and answer should have been\",\n",
    "            LABEL_MAP[entry[\"label\"]],\n",
    "        )\n",
    "    return correct"
   ]
  },
  {
   "cell_type": "code",
   "execution_count": 23,
   "metadata": {},
   "outputs": [
    {
     "name": "stderr",
     "output_type": "stream",
     "text": [
      " 41%|██████████▋               | 4383/10700 [10:31<15:12,  6.92it/s, acc: 0.583]"
     ]
    }
   ],
   "source": [
    "from tqdm import tqdm\n",
    "\n",
    "num_correct = 0\n",
    "responses={}\n",
    "for idx, entry in enumerate((prog:=tqdm(ds))):\n",
    "    if idx in entries:\n",
    "        continue  # don't include items that were in the examples\n",
    "    \n",
    "    correct = workflow(idx, entry, model, k=n_examples)\n",
    "    if correct:\n",
    "        num_correct += 1\n",
    "    prog.set_postfix_str(f\"acc: {num_correct/(idx+1):.3f}\")"
   ]
  },
  {
   "cell_type": "code",
   "execution_count": null,
   "metadata": {},
   "outputs": [
    {
     "data": {
      "text/plain": [
       "dict_keys(['A', 'C', 'B', 'I', 'a', 'Y', 'true', 'V', 'True', '1', 'None', 'c', 'False', 'Q', '\\n', 'b', 'ABC', 'd', 'i', '4', 'Choose', 'N', '3', 'false', 'Un', 'D', 'India', '2', 'XP', 'Select', 'Don', ' true', 'Answer', 'TRUE', 'T', ' A', 'P', 'Yes', 'M', 'G', ' ', 'View', 'or', 'O', 'E', 'Enter', 'X', 'exp', '0', 'Option', 'select', 'F', '9', 'Ex', 'https', 'g', 's', 'BC', '<|endoftext|>', 'BB', 'The', 'AG', 'In', ' B', 'AB', 'An', ' True', 'h', 'Ed', 'UP'])"
      ]
     },
     "execution_count": 24,
     "metadata": {},
     "output_type": "execute_result"
    }
   ],
   "source": [
    "responses.keys()"
   ]
  },
  {
   "cell_type": "code",
   "execution_count": null,
   "metadata": {},
   "outputs": [],
   "source": [
    "import seaborn as sns\n",
    "import pandas as pd\n",
    "sns.set_context(\"paper\")\n",
    "\n",
    "\n",
    "df = {\"labels\":[]}\n",
    "for key, val in responses.items():\n",
    "    df['labels'].extend([key]*len(val))\n",
    "df = pd.DataFrame.from_dict(df)"
   ]
  },
  {
   "cell_type": "code",
   "execution_count": null,
   "metadata": {},
   "outputs": [
    {
     "data": {
      "text/plain": [
       "<Axes: xlabel='labels', ylabel='count'>"
      ]
     },
     "execution_count": 26,
     "metadata": {},
     "output_type": "execute_result"
    },
    {
     "data": {
      "image/png": "[encoded data removed]",
      "text/plain": [
       "<Figure size 640x480 with 1 Axes>"
      ]
     },
     "metadata": {},
     "output_type": "display_data"
    }
   ],
   "source": [
    "sns.countplot(df, x='labels')"
   ]
  },
  {
   "cell_type": "code",
   "execution_count": null,
   "metadata": {},
   "outputs": [
    {
     "data": {
      "text/plain": [
       "Text(0.5, 1.0, 'tiiuae/falcon-7b-instruct 0-shot')"
      ]
     },
     "execution_count": 27,
     "metadata": {},
     "output_type": "execute_result"
    },
    {
     "data": {
      "image/png": "[encoded data removed]",
      "text/plain": [
       "<Figure size 640x480 with 1 Axes>"
      ]
     },
     "metadata": {},
     "output_type": "display_data"
    }
   ],
   "source": [
    "accepted = ['A', 'B', 'C', 'D', 'E','F']\n",
    "filtered = df.map(lambda val: val if val in accepted else 'UNK')\n",
    "sns.countplot(filtered, x='labels', ).set_title(f\"{model_name} 0-shot\")"
   ]
  },
  {
   "cell_type": "code",
   "execution_count": null,
   "metadata": {},
   "outputs": [],
   "source": [
    "import pickle\n",
    "pickle.dump(responses, open(f\"{model_name[model_name.index('/')+1:]}_{n_examples}responses.pk\", \"wb\"))"
   ]
  },
  {
   "cell_type": "code",
   "execution_count": null,
   "metadata": {},
   "outputs": [],
   "source": [
    "# log results\n",
    "with open(f\"{n_examples}_shot.txt\", \"a\") as file:\n",
    "    file.write(f\"{model_name} : {num_correct}/{len(ds)-len(entries)}\\n\")"
   ]
  },
  {
   "cell_type": "code",
   "execution_count": null,
   "metadata": {},
   "outputs": [
    {
     "name": "stdout",
     "output_type": "stream",
     "text": [
      "meta-llama/Llama-2-7b-chat-hf : 2587/12836\n",
      "tiiuae/falcon-7b-instruct : 2485/12836\n",
      "mistralai/Mistral-7B-Instruct-v0.2 : 2849/12836\n",
      "microsoft/Orca-2-7b : 2132/12836\n",
      "tiiuae/falcon-7b-instruct : 2482/12836\n",
      "mistralai/Mistral-7B-Instruct-v0.2 : 2857/12836\n",
      "mistralai/Mistral-7B-Instruct-v0.2 : 2857/12836\n",
      "microsoft/Orca-2-7b : 2131/12836\n",
      "\n",
      "# 16 bit\n",
      "meta-llama/Llama-2-7b-chat-hf : 2444/12836\n",
      "tiiuae/falcon-7b-instruct : 1749/12836\n",
      "mistralai/Mistral-7B-Instruct-v0.2 : 2871/12836\n",
      "microsoft/Orca-2-7b : 2428/12836\n",
      "\n",
      "# Covid\n",
      "mistralai/Mistral-7B-Instruct-v0.2 : 8640/10700\n",
      "tiiuae/falcon-7b-instruct : 5320/10700\n",
      "\n"
     ]
    }
   ],
   "source": [
    "# print results up till now\n",
    "with open(f\"{n_examples}_shot.txt\", \"r\") as file:\n",
    "    print(file.read())"
   ]
  },
  {
   "cell_type": "code",
   "execution_count": null,
   "metadata": {},
   "outputs": [],
   "source": []
  }
 ],
 "metadata": {
  "kernelspec": {
   "display_name": "Python 3 (ipykernel)",
   "language": "python",
   "name": "python3"
  },
  "language_info": {
   "codemirror_mode": {
    "name": "ipython",
    "version": 3
   },
   "file_extension": ".py",
   "mimetype": "text/x-python",
   "name": "python",
   "nbconvert_exporter": "python",
   "pygments_lexer": "ipython3",
   "version": "3.11.5"
  }
 },
 "nbformat": 4,
 "nbformat_minor": 2
}
