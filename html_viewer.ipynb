{
 "cells": [
  {
   "cell_type": "code",
   "execution_count": 1,
   "metadata": {},
   "outputs": [],
   "source": [
    "import html2image\n",
    "import os"
   ]
  },
  {
   "cell_type": "code",
   "execution_count": 6,
   "metadata": {},
   "outputs": [
    {
     "name": "stderr",
     "output_type": "stream",
     "text": [
      "[0215/171130.468657:INFO:policy_logger.cc(144)] :components/policy/core/common/config_dir_policy_loader.cc(118) Skipping mandatory platform policies because no policy file was found at: /etc/opt/chrome/policies/managed\n",
      "[0215/171130.468694:INFO:policy_logger.cc(144)] :components/policy/core/common/config_dir_policy_loader.cc(118) Skipping recommended platform policies because no policy file was found at: /etc/opt/chrome/policies/recommended\n",
      "[0215/171130.494603:WARNING:bluez_dbus_manager.cc(248)] Floss manager not present, cannot set Floss enable/disable.\n",
      "[0215/171132.494663:WARNING:sandbox_linux.cc(418)] InitializeSandbox() called with multiple threads in process gpu-process.\n",
      "[0215/171132.498685:ERROR:command_buffer_proxy_impl.cc(131)] ContextResult::kTransientFailure: Failed to send GpuControl.CreateCommandBuffer.\n",
      "41572 bytes written to file /home/eliot/Documents/GitHub/mlvis/side.png\n",
      "[0215/171132.672155:INFO:policy_logger.cc(144)] :components/policy/core/common/config_dir_policy_loader.cc(118) Skipping mandatory platform policies because no policy file was found at: /etc/opt/chrome/policies/managed\n",
      "[0215/171132.672190:INFO:policy_logger.cc(144)] :components/policy/core/common/config_dir_policy_loader.cc(118) Skipping recommended platform policies because no policy file was found at: /etc/opt/chrome/policies/recommended\n",
      "[0215/171132.701842:WARNING:bluez_dbus_manager.cc(248)] Floss manager not present, cannot set Floss enable/disable.\n",
      "[0215/171132.789949:WARNING:sandbox_linux.cc(418)] InitializeSandbox() called with multiple threads in process gpu-process.\n",
      "56345 bytes written to file /home/eliot/Documents/GitHub/mlvis/text.png\n"
     ]
    },
    {
     "data": {
      "text/plain": [
       "['/home/eliot/Documents/GitHub/mlvis/text.png']"
      ]
     },
     "execution_count": 6,
     "metadata": {},
     "output_type": "execute_result"
    }
   ],
   "source": [
    "hti = html2image.Html2Image(size=(1080, 400))\n",
    "hti.screenshot(html_file=\"./Mistral-7B-Instruct-v0.2_lime_side.html\", save_as=\"side.png\")\n",
    "hti.screenshot(html_file=\"./raw_text.html\", save_as=\"text.png\")"
   ]
  },
  {
   "cell_type": "code",
   "execution_count": null,
   "metadata": {},
   "outputs": [],
   "source": [
    "for dataset in os.listdir(\"./html\"):\n",
    "    for experiment in os.listdir(f\"./html/{dataset}\"):\n",
    "        for model in os.listdir(f\"./html/{dataset}/{experiment}\"):\n",
    "            hti = html2image.Html2Image(size=(1080, 1000), output_path=f\"./imgs/{dataset}/{experiment}/{model}/\")\n",
    "            for run in os.listdir(f\"./html/{dataset}/{experiment}/{model}\"):\n",
    "                name = run[:run.index(\".html\")]\n",
    "                hti.screenshot(html_file=f\"./html/{dataset}/{experiment}/{model}/{name}.html\", css_str=\"\", save_as=f\"{name}.png\")"
   ]
  },
  {
   "cell_type": "markdown",
   "metadata": {},
   "source": [
    "Visualize the combined items"
   ]
  },
  {
   "cell_type": "code",
   "execution_count": 2,
   "metadata": {},
   "outputs": [
    {
     "name": "stderr",
     "output_type": "stream",
     "text": [
      "[0328/213202.616704:INFO:policy_logger.cc(145)] :components/policy/core/common/config_dir_policy_loader.cc(118) Skipping mandatory platform policies because no policy file was found at: /etc/opt/chrome/policies/managed\n",
      "[0328/213202.616744:INFO:policy_logger.cc(145)] :components/policy/core/common/config_dir_policy_loader.cc(118) Skipping recommended platform policies because no policy file was found at: /etc/opt/chrome/policies/recommended\n",
      "[0328/213202.645691:WARNING:bluez_dbus_manager.cc(248)] Floss manager not present, cannot set Floss enable/disable.\n",
      "[0328/213202.645734:WARNING:runtime_features.cc(728)] AttributionReportingCrossAppWeb cannot be enabled in this configuration. Use --enable-features=ConversionMeasurement,AttributionReportingCrossAppWeb in addition.\n",
      "[0328/213204.652051:WARNING:vaapi_wrapper.cc(1498)] Skipping nVidia device named: nvidia-drm\n",
      "[0328/213204.671548:WARNING:sandbox_linux.cc(418)] InitializeSandbox() called with multiple threads in process gpu-process.\n",
      "[0328/213204.675471:ERROR:command_buffer_proxy_impl.cc(131)] ContextResult::kTransientFailure: Failed to send GpuControl.CreateCommandBuffer.\n",
      "[0328/213204.684118:WARNING:runtime_features.cc(728)] AttributionReportingCrossAppWeb cannot be enabled in this configuration. Use --enable-features=ConversionMeasurement,AttributionReportingCrossAppWeb in addition.\n",
      "100931 bytes written to file /home/eliot/Documents/GitHub/mlvis/temp/imgs/liar/combined/Llama-2-7b-chat-hf/1.png\n",
      "[0328/213204.836452:INFO:policy_logger.cc(145)] :components/policy/core/common/config_dir_policy_loader.cc(118) Skipping mandatory platform policies because no policy file was found at: /etc/opt/chrome/policies/managed\n",
      "[0328/213204.836492:INFO:policy_logger.cc(145)] :components/policy/core/common/config_dir_policy_loader.cc(118) Skipping recommended platform policies because no policy file was found at: /etc/opt/chrome/policies/recommended\n",
      "[0328/213204.862931:WARNING:bluez_dbus_manager.cc(248)] Floss manager not present, cannot set Floss enable/disable.\n",
      "[0328/213204.864611:WARNING:runtime_features.cc(728)] AttributionReportingCrossAppWeb cannot be enabled in this configuration. Use --enable-features=ConversionMeasurement,AttributionReportingCrossAppWeb in addition.\n",
      "[0328/213204.947624:WARNING:vaapi_wrapper.cc(1498)] Skipping nVidia device named: nvidia-drm\n",
      "[0328/213204.962714:WARNING:sandbox_linux.cc(418)] InitializeSandbox() called with multiple threads in process gpu-process.\n",
      "[0328/213204.966584:ERROR:command_buffer_proxy_impl.cc(131)] ContextResult::kTransientFailure: Failed to send GpuControl.CreateCommandBuffer.\n",
      "[0328/213204.976206:WARNING:runtime_features.cc(728)] AttributionReportingCrossAppWeb cannot be enabled in this configuration. Use --enable-features=ConversionMeasurement,AttributionReportingCrossAppWeb in addition.\n",
      "104065 bytes written to file /home/eliot/Documents/GitHub/mlvis/temp/imgs/liar/combined/Llama-2-7b-chat-hf/0.png\n",
      "[0328/213205.139424:INFO:policy_logger.cc(145)] :components/policy/core/common/config_dir_policy_loader.cc(118) Skipping mandatory platform policies because no policy file was found at: /etc/opt/chrome/policies/managed\n",
      "[0328/213205.139456:INFO:policy_logger.cc(145)] :components/policy/core/common/config_dir_policy_loader.cc(118) Skipping recommended platform policies because no policy file was found at: /etc/opt/chrome/policies/recommended\n",
      "[0328/213205.166496:WARNING:bluez_dbus_manager.cc(248)] Floss manager not present, cannot set Floss enable/disable.\n",
      "[0328/213205.168443:WARNING:runtime_features.cc(728)] AttributionReportingCrossAppWeb cannot be enabled in this configuration. Use --enable-features=ConversionMeasurement,AttributionReportingCrossAppWeb in addition.\n",
      "[0328/213205.252671:WARNING:vaapi_wrapper.cc(1498)] Skipping nVidia device named: nvidia-drm\n",
      "[0328/213205.268440:WARNING:sandbox_linux.cc(418)] InitializeSandbox() called with multiple threads in process gpu-process.\n",
      "[0328/213205.272222:ERROR:command_buffer_proxy_impl.cc(131)] ContextResult::kTransientFailure: Failed to send GpuControl.CreateCommandBuffer.\n",
      "[0328/213205.281133:WARNING:runtime_features.cc(728)] AttributionReportingCrossAppWeb cannot be enabled in this configuration. Use --enable-features=ConversionMeasurement,AttributionReportingCrossAppWeb in addition.\n",
      "100316 bytes written to file /home/eliot/Documents/GitHub/mlvis/temp/imgs/liar/combined/Orca-2-7b/1.png\n",
      "[0328/213205.439842:INFO:policy_logger.cc(145)] :components/policy/core/common/config_dir_policy_loader.cc(118) Skipping mandatory platform policies because no policy file was found at: /etc/opt/chrome/policies/managed\n",
      "[0328/213205.439873:INFO:policy_logger.cc(145)] :components/policy/core/common/config_dir_policy_loader.cc(118) Skipping recommended platform policies because no policy file was found at: /etc/opt/chrome/policies/recommended\n",
      "[0328/213205.465243:WARNING:bluez_dbus_manager.cc(248)] Floss manager not present, cannot set Floss enable/disable.\n",
      "[0328/213205.467059:WARNING:runtime_features.cc(728)] AttributionReportingCrossAppWeb cannot be enabled in this configuration. Use --enable-features=ConversionMeasurement,AttributionReportingCrossAppWeb in addition.\n",
      "[0328/213205.556155:WARNING:vaapi_wrapper.cc(1498)] Skipping nVidia device named: nvidia-drm\n",
      "[0328/213205.572053:WARNING:sandbox_linux.cc(418)] InitializeSandbox() called with multiple threads in process gpu-process.\n",
      "[0328/213205.576080:ERROR:command_buffer_proxy_impl.cc(131)] ContextResult::kTransientFailure: Failed to send GpuControl.CreateCommandBuffer.\n",
      "[0328/213205.585345:WARNING:runtime_features.cc(728)] AttributionReportingCrossAppWeb cannot be enabled in this configuration. Use --enable-features=ConversionMeasurement,AttributionReportingCrossAppWeb in addition.\n",
      "104930 bytes written to file /home/eliot/Documents/GitHub/mlvis/temp/imgs/liar/combined/Orca-2-7b/0.png\n",
      "[0328/213205.737564:INFO:policy_logger.cc(145)] :components/policy/core/common/config_dir_policy_loader.cc(118) Skipping mandatory platform policies because no policy file was found at: /etc/opt/chrome/policies/managed\n",
      "[0328/213205.737591:INFO:policy_logger.cc(145)] :components/policy/core/common/config_dir_policy_loader.cc(118) Skipping recommended platform policies because no policy file was found at: /etc/opt/chrome/policies/recommended\n",
      "[0328/213205.762411:WARNING:bluez_dbus_manager.cc(248)] Floss manager not present, cannot set Floss enable/disable.\n",
      "[0328/213205.764305:WARNING:runtime_features.cc(728)] AttributionReportingCrossAppWeb cannot be enabled in this configuration. Use --enable-features=ConversionMeasurement,AttributionReportingCrossAppWeb in addition.\n",
      "[0328/213205.852755:WARNING:vaapi_wrapper.cc(1498)] Skipping nVidia device named: nvidia-drm\n",
      "[0328/213205.867932:WARNING:sandbox_linux.cc(418)] InitializeSandbox() called with multiple threads in process gpu-process.\n",
      "[0328/213205.871834:ERROR:command_buffer_proxy_impl.cc(131)] ContextResult::kTransientFailure: Failed to send GpuControl.CreateCommandBuffer.\n",
      "[0328/213205.880025:WARNING:runtime_features.cc(728)] AttributionReportingCrossAppWeb cannot be enabled in this configuration. Use --enable-features=ConversionMeasurement,AttributionReportingCrossAppWeb in addition.\n",
      "96054 bytes written to file /home/eliot/Documents/GitHub/mlvis/temp/imgs/liar/combined/falcon-7b-instruct/1.png\n",
      "[0328/213206.037409:INFO:policy_logger.cc(145)] :components/policy/core/common/config_dir_policy_loader.cc(118) Skipping mandatory platform policies because no policy file was found at: /etc/opt/chrome/policies/managed\n",
      "[0328/213206.037440:INFO:policy_logger.cc(145)] :components/policy/core/common/config_dir_policy_loader.cc(118) Skipping recommended platform policies because no policy file was found at: /etc/opt/chrome/policies/recommended\n",
      "[0328/213206.062885:WARNING:bluez_dbus_manager.cc(248)] Floss manager not present, cannot set Floss enable/disable.\n",
      "[0328/213206.064469:WARNING:runtime_features.cc(728)] AttributionReportingCrossAppWeb cannot be enabled in this configuration. Use --enable-features=ConversionMeasurement,AttributionReportingCrossAppWeb in addition.\n",
      "[0328/213206.148735:WARNING:vaapi_wrapper.cc(1498)] Skipping nVidia device named: nvidia-drm\n",
      "[0328/213206.163383:WARNING:sandbox_linux.cc(418)] InitializeSandbox() called with multiple threads in process gpu-process.\n",
      "[0328/213206.167149:ERROR:command_buffer_proxy_impl.cc(131)] ContextResult::kTransientFailure: Failed to send GpuControl.CreateCommandBuffer.\n",
      "[0328/213206.176176:WARNING:runtime_features.cc(728)] AttributionReportingCrossAppWeb cannot be enabled in this configuration. Use --enable-features=ConversionMeasurement,AttributionReportingCrossAppWeb in addition.\n",
      "97437 bytes written to file /home/eliot/Documents/GitHub/mlvis/temp/imgs/liar/combined/falcon-7b-instruct/0.png\n",
      "[0328/213206.341902:INFO:policy_logger.cc(145)] :components/policy/core/common/config_dir_policy_loader.cc(118) Skipping mandatory platform policies because no policy file was found at: /etc/opt/chrome/policies/managed\n",
      "[0328/213206.341932:INFO:policy_logger.cc(145)] :components/policy/core/common/config_dir_policy_loader.cc(118) Skipping recommended platform policies because no policy file was found at: /etc/opt/chrome/policies/recommended\n",
      "[0328/213206.368303:WARNING:bluez_dbus_manager.cc(248)] Floss manager not present, cannot set Floss enable/disable.\n",
      "[0328/213206.369943:WARNING:runtime_features.cc(728)] AttributionReportingCrossAppWeb cannot be enabled in this configuration. Use --enable-features=ConversionMeasurement,AttributionReportingCrossAppWeb in addition.\n",
      "[0328/213206.454512:WARNING:vaapi_wrapper.cc(1498)] Skipping nVidia device named: nvidia-drm\n",
      "[0328/213206.468161:WARNING:sandbox_linux.cc(418)] InitializeSandbox() called with multiple threads in process gpu-process.\n",
      "[0328/213206.471819:ERROR:command_buffer_proxy_impl.cc(131)] ContextResult::kTransientFailure: Failed to send GpuControl.CreateCommandBuffer.\n",
      "[0328/213206.480898:WARNING:runtime_features.cc(728)] AttributionReportingCrossAppWeb cannot be enabled in this configuration. Use --enable-features=ConversionMeasurement,AttributionReportingCrossAppWeb in addition.\n",
      "100668 bytes written to file /home/eliot/Documents/GitHub/mlvis/temp/imgs/liar/combined/Mistral-7B-Instruct-v0.2/1.png\n",
      "[0328/213206.636971:INFO:policy_logger.cc(145)] :components/policy/core/common/config_dir_policy_loader.cc(118) Skipping mandatory platform policies because no policy file was found at: /etc/opt/chrome/policies/managed\n",
      "[0328/213206.637009:INFO:policy_logger.cc(145)] :components/policy/core/common/config_dir_policy_loader.cc(118) Skipping recommended platform policies because no policy file was found at: /etc/opt/chrome/policies/recommended\n",
      "[0328/213206.663170:WARNING:bluez_dbus_manager.cc(248)] Floss manager not present, cannot set Floss enable/disable.\n",
      "[0328/213206.664167:WARNING:runtime_features.cc(728)] AttributionReportingCrossAppWeb cannot be enabled in this configuration. Use --enable-features=ConversionMeasurement,AttributionReportingCrossAppWeb in addition.\n",
      "[0328/213206.751948:WARNING:vaapi_wrapper.cc(1498)] Skipping nVidia device named: nvidia-drm\n",
      "[0328/213206.766910:WARNING:sandbox_linux.cc(418)] InitializeSandbox() called with multiple threads in process gpu-process.\n",
      "[0328/213206.770480:ERROR:command_buffer_proxy_impl.cc(131)] ContextResult::kTransientFailure: Failed to send GpuControl.CreateCommandBuffer.\n",
      "[0328/213206.779728:WARNING:runtime_features.cc(728)] AttributionReportingCrossAppWeb cannot be enabled in this configuration. Use --enable-features=ConversionMeasurement,AttributionReportingCrossAppWeb in addition.\n",
      "101217 bytes written to file /home/eliot/Documents/GitHub/mlvis/temp/imgs/liar/combined/Mistral-7B-Instruct-v0.2/0.png\n"
     ]
    }
   ],
   "source": [
    "for model in os.listdir(f\"./temp/html/liar/combined/\"):\n",
    "    hti = html2image.Html2Image(size=(1080, 350), output_path=f\"./temp/imgs/liar/combined/{model}/\")\n",
    "    for run in os.listdir(f\"./temp/html/liar/combined/{model}\"):\n",
    "        name = run[:run.index(\".html\")]\n",
    "        hti.screenshot(html_file=f\"./temp/html/liar/combined/{model}/{name}.html\", css_str=\"\", save_as=f\"{name}.png\")"
   ]
  },
  {
   "cell_type": "code",
   "execution_count": null,
   "metadata": {},
   "outputs": [],
   "source": []
  }
 ],
 "metadata": {
  "kernelspec": {
   "display_name": "torch",
   "language": "python",
   "name": "python3"
  },
  "language_info": {
   "codemirror_mode": {
    "name": "ipython",
    "version": 3
   },
   "file_extension": ".py",
   "mimetype": "text/x-python",
   "name": "python",
   "nbconvert_exporter": "python",
   "pygments_lexer": "ipython3",
   "version": "3.11.0"
  }
 },
 "nbformat": 4,
 "nbformat_minor": 2
}
