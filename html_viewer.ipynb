{
 "cells": [
  {
   "cell_type": "code",
   "execution_count": 1,
   "metadata": {},
   "outputs": [],
   "source": [
    "import html2image\n",
    "import os"
   ]
  },
  {
   "cell_type": "code",
   "execution_count": 6,
   "metadata": {},
   "outputs": [
    {
     "name": "stderr",
     "output_type": "stream",
     "text": [
      "[0215/171130.468657:INFO:policy_logger.cc(144)] :components/policy/core/common/config_dir_policy_loader.cc(118) Skipping mandatory platform policies because no policy file was found at: /etc/opt/chrome/policies/managed\n",
      "[0215/171130.468694:INFO:policy_logger.cc(144)] :components/policy/core/common/config_dir_policy_loader.cc(118) Skipping recommended platform policies because no policy file was found at: /etc/opt/chrome/policies/recommended\n",
      "[0215/171130.494603:WARNING:bluez_dbus_manager.cc(248)] Floss manager not present, cannot set Floss enable/disable.\n",
      "[0215/171132.494663:WARNING:sandbox_linux.cc(418)] InitializeSandbox() called with multiple threads in process gpu-process.\n",
      "[0215/171132.498685:ERROR:command_buffer_proxy_impl.cc(131)] ContextResult::kTransientFailure: Failed to send GpuControl.CreateCommandBuffer.\n",
      "41572 bytes written to file /home/eliot/Documents/GitHub/mlvis/side.png\n",
      "[0215/171132.672155:INFO:policy_logger.cc(144)] :components/policy/core/common/config_dir_policy_loader.cc(118) Skipping mandatory platform policies because no policy file was found at: /etc/opt/chrome/policies/managed\n",
      "[0215/171132.672190:INFO:policy_logger.cc(144)] :components/policy/core/common/config_dir_policy_loader.cc(118) Skipping recommended platform policies because no policy file was found at: /etc/opt/chrome/policies/recommended\n",
      "[0215/171132.701842:WARNING:bluez_dbus_manager.cc(248)] Floss manager not present, cannot set Floss enable/disable.\n",
      "[0215/171132.789949:WARNING:sandbox_linux.cc(418)] InitializeSandbox() called with multiple threads in process gpu-process.\n",
      "56345 bytes written to file /home/eliot/Documents/GitHub/mlvis/text.png\n"
     ]
    },
    {
     "data": {
      "text/plain": [
       "['/home/eliot/Documents/GitHub/mlvis/text.png']"
      ]
     },
     "execution_count": 6,
     "metadata": {},
     "output_type": "execute_result"
    }
   ],
   "source": [
    "hti = html2image.Html2Image(size=(1080, 400))\n",
    "hti.screenshot(html_file=\"./Mistral-7B-Instruct-v0.2_lime_side.html\", save_as=\"side.png\")\n",
    "hti.screenshot(html_file=\"./raw_text.html\", save_as=\"text.png\")"
   ]
  },
  {
   "cell_type": "code",
   "execution_count": 2,
   "metadata": {},
   "outputs": [
    {
     "name": "stderr",
     "output_type": "stream",
     "text": [
      "[0215/170847.462571:INFO:policy_logger.cc(144)] :components/policy/core/common/config_dir_policy_loader.cc(118) Skipping mandatory platform policies because no policy file was found at: /etc/opt/chrome/policies/managed\n",
      "[0215/170847.462603:INFO:policy_logger.cc(144)] :components/policy/core/common/config_dir_policy_loader.cc(118) Skipping recommended platform policies because no policy file was found at: /etc/opt/chrome/policies/recommended\n",
      "[0215/170847.486899:WARNING:bluez_dbus_manager.cc(248)] Floss manager not present, cannot set Floss enable/disable.\n",
      "[0215/170849.447614:WARNING:sandbox_linux.cc(418)] InitializeSandbox() called with multiple threads in process gpu-process.\n",
      "[0215/170849.451835:ERROR:command_buffer_proxy_impl.cc(131)] ContextResult::kTransientFailure: Failed to send GpuControl.CreateCommandBuffer.\n",
      "150304 bytes written to file /home/eliot/Documents/GitHub/mlvis/imgs/lime/falcon-7b-instruct_lime.png\n",
      "[0215/170849.651303:INFO:policy_logger.cc(144)] :components/policy/core/common/config_dir_policy_loader.cc(118) Skipping mandatory platform policies because no policy file was found at: /etc/opt/chrome/policies/managed\n",
      "[0215/170849.651343:INFO:policy_logger.cc(144)] :components/policy/core/common/config_dir_policy_loader.cc(118) Skipping recommended platform policies because no policy file was found at: /etc/opt/chrome/policies/recommended\n",
      "[0215/170849.679156:WARNING:bluez_dbus_manager.cc(248)] Floss manager not present, cannot set Floss enable/disable.\n",
      "[0215/170849.761344:WARNING:sandbox_linux.cc(418)] InitializeSandbox() called with multiple threads in process gpu-process.\n",
      "188944 bytes written to file /home/eliot/Documents/GitHub/mlvis/imgs/lime/Mistral-7B-Instruct-v0.2_lime.png\n",
      "[0215/170849.974006:INFO:policy_logger.cc(144)] :components/policy/core/common/config_dir_policy_loader.cc(118) Skipping mandatory platform policies because no policy file was found at: /etc/opt/chrome/policies/managed\n",
      "[0215/170849.974046:INFO:policy_logger.cc(144)] :components/policy/core/common/config_dir_policy_loader.cc(118) Skipping recommended platform policies because no policy file was found at: /etc/opt/chrome/policies/recommended\n",
      "[0215/170850.002756:WARNING:bluez_dbus_manager.cc(248)] Floss manager not present, cannot set Floss enable/disable.\n",
      "[0215/170850.081743:WARNING:sandbox_linux.cc(418)] InitializeSandbox() called with multiple threads in process gpu-process.\n",
      "178692 bytes written to file /home/eliot/Documents/GitHub/mlvis/imgs/lime/Orca-2-7b_lime.png\n",
      "[0215/170850.307818:INFO:policy_logger.cc(144)] :components/policy/core/common/config_dir_policy_loader.cc(118) Skipping mandatory platform policies because no policy file was found at: /etc/opt/chrome/policies/managed\n",
      "[0215/170850.307858:INFO:policy_logger.cc(144)] :components/policy/core/common/config_dir_policy_loader.cc(118) Skipping recommended platform policies because no policy file was found at: /etc/opt/chrome/policies/recommended\n",
      "[0215/170850.334440:WARNING:bluez_dbus_manager.cc(248)] Floss manager not present, cannot set Floss enable/disable.\n",
      "[0215/170850.422925:WARNING:sandbox_linux.cc(418)] InitializeSandbox() called with multiple threads in process gpu-process.\n",
      "181461 bytes written to file /home/eliot/Documents/GitHub/mlvis/imgs/lime/Llama-2-7b-chat-hf_lime.png\n",
      "[0215/170850.652342:INFO:policy_logger.cc(144)] :components/policy/core/common/config_dir_policy_loader.cc(118) Skipping mandatory platform policies because no policy file was found at: /etc/opt/chrome/policies/managed\n",
      "[0215/170850.652376:INFO:policy_logger.cc(144)] :components/policy/core/common/config_dir_policy_loader.cc(118) Skipping recommended platform policies because no policy file was found at: /etc/opt/chrome/policies/recommended\n",
      "[0215/170850.679285:WARNING:bluez_dbus_manager.cc(248)] Floss manager not present, cannot set Floss enable/disable.\n",
      "[0215/170850.762557:WARNING:sandbox_linux.cc(418)] InitializeSandbox() called with multiple threads in process gpu-process.\n",
      "213433 bytes written to file /home/eliot/Documents/GitHub/mlvis/imgs/ig/Orca-2-7b.png\n",
      "[0215/170850.978884:INFO:policy_logger.cc(144)] :components/policy/core/common/config_dir_policy_loader.cc(118) Skipping mandatory platform policies because no policy file was found at: /etc/opt/chrome/policies/managed\n",
      "[0215/170850.978937:INFO:policy_logger.cc(144)] :components/policy/core/common/config_dir_policy_loader.cc(118) Skipping recommended platform policies because no policy file was found at: /etc/opt/chrome/policies/recommended\n",
      "[0215/170851.006819:WARNING:bluez_dbus_manager.cc(248)] Floss manager not present, cannot set Floss enable/disable.\n",
      "[0215/170851.103028:WARNING:sandbox_linux.cc(418)] InitializeSandbox() called with multiple threads in process gpu-process.\n",
      "[0215/170851.107761:ERROR:command_buffer_proxy_impl.cc(131)] ContextResult::kTransientFailure: Failed to send GpuControl.CreateCommandBuffer.\n",
      "191299 bytes written to file /home/eliot/Documents/GitHub/mlvis/imgs/ig/falcon-7b-instruct.png\n",
      "[0215/170851.322832:INFO:policy_logger.cc(144)] :components/policy/core/common/config_dir_policy_loader.cc(118) Skipping mandatory platform policies because no policy file was found at: /etc/opt/chrome/policies/managed\n",
      "[0215/170851.322866:INFO:policy_logger.cc(144)] :components/policy/core/common/config_dir_policy_loader.cc(118) Skipping recommended platform policies because no policy file was found at: /etc/opt/chrome/policies/recommended\n",
      "[0215/170851.350969:WARNING:bluez_dbus_manager.cc(248)] Floss manager not present, cannot set Floss enable/disable.\n",
      "[0215/170851.429608:WARNING:sandbox_linux.cc(418)] InitializeSandbox() called with multiple threads in process gpu-process.\n",
      "212610 bytes written to file /home/eliot/Documents/GitHub/mlvis/imgs/ig/Mistral-7B-Instruct-v0.2.png\n",
      "[0215/170851.642053:INFO:policy_logger.cc(144)] :components/policy/core/common/config_dir_policy_loader.cc(118) Skipping mandatory platform policies because no policy file was found at: /etc/opt/chrome/policies/managed\n",
      "[0215/170851.642096:INFO:policy_logger.cc(144)] :components/policy/core/common/config_dir_policy_loader.cc(118) Skipping recommended platform policies because no policy file was found at: /etc/opt/chrome/policies/recommended\n",
      "[0215/170851.671809:WARNING:bluez_dbus_manager.cc(248)] Floss manager not present, cannot set Floss enable/disable.\n",
      "[0215/170851.750744:WARNING:sandbox_linux.cc(418)] InitializeSandbox() called with multiple threads in process gpu-process.\n",
      "221824 bytes written to file /home/eliot/Documents/GitHub/mlvis/imgs/ig/llama_0.png\n",
      "[0215/170851.997405:INFO:policy_logger.cc(144)] :components/policy/core/common/config_dir_policy_loader.cc(118) Skipping mandatory platform policies because no policy file was found at: /etc/opt/chrome/policies/managed\n",
      "[0215/170851.997440:INFO:policy_logger.cc(144)] :components/policy/core/common/config_dir_policy_loader.cc(118) Skipping recommended platform policies because no policy file was found at: /etc/opt/chrome/policies/recommended\n",
      "[0215/170852.031279:WARNING:bluez_dbus_manager.cc(248)] Floss manager not present, cannot set Floss enable/disable.\n",
      "[0215/170852.124847:WARNING:sandbox_linux.cc(418)] InitializeSandbox() called with multiple threads in process gpu-process.\n",
      "207493 bytes written to file /home/eliot/Documents/GitHub/mlvis/imgs/shap/Orca-2-7b_shap.png\n",
      "[0215/170852.344253:INFO:policy_logger.cc(144)] :components/policy/core/common/config_dir_policy_loader.cc(118) Skipping mandatory platform policies because no policy file was found at: /etc/opt/chrome/policies/managed\n",
      "[0215/170852.344296:INFO:policy_logger.cc(144)] :components/policy/core/common/config_dir_policy_loader.cc(118) Skipping recommended platform policies because no policy file was found at: /etc/opt/chrome/policies/recommended\n",
      "[0215/170852.371562:WARNING:bluez_dbus_manager.cc(248)] Floss manager not present, cannot set Floss enable/disable.\n",
      "[0215/170852.456693:WARNING:sandbox_linux.cc(418)] InitializeSandbox() called with multiple threads in process gpu-process.\n",
      "205760 bytes written to file /home/eliot/Documents/GitHub/mlvis/imgs/shap/falcon-7b-instruct_shap.png\n",
      "[0215/170852.658433:INFO:policy_logger.cc(144)] :components/policy/core/common/config_dir_policy_loader.cc(118) Skipping mandatory platform policies because no policy file was found at: /etc/opt/chrome/policies/managed\n",
      "[0215/170852.658466:INFO:policy_logger.cc(144)] :components/policy/core/common/config_dir_policy_loader.cc(118) Skipping recommended platform policies because no policy file was found at: /etc/opt/chrome/policies/recommended\n",
      "[0215/170852.684932:WARNING:bluez_dbus_manager.cc(248)] Floss manager not present, cannot set Floss enable/disable.\n",
      "[0215/170852.768411:WARNING:sandbox_linux.cc(418)] InitializeSandbox() called with multiple threads in process gpu-process.\n",
      "201403 bytes written to file /home/eliot/Documents/GitHub/mlvis/imgs/shap/Llama-2-7b-chat-hf_shap.png\n",
      "[0215/170852.990072:INFO:policy_logger.cc(144)] :components/policy/core/common/config_dir_policy_loader.cc(118) Skipping mandatory platform policies because no policy file was found at: /etc/opt/chrome/policies/managed\n",
      "[0215/170852.990106:INFO:policy_logger.cc(144)] :components/policy/core/common/config_dir_policy_loader.cc(118) Skipping recommended platform policies because no policy file was found at: /etc/opt/chrome/policies/recommended\n",
      "[0215/170853.018617:WARNING:bluez_dbus_manager.cc(248)] Floss manager not present, cannot set Floss enable/disable.\n",
      "[0215/170853.102343:WARNING:sandbox_linux.cc(418)] InitializeSandbox() called with multiple threads in process gpu-process.\n",
      "200919 bytes written to file /home/eliot/Documents/GitHub/mlvis/imgs/shap/Mistral-7B-Instruct-v0.2_shap.png\n"
     ]
    }
   ],
   "source": [
    "# for dirname in os.listdir(\"./html\"):\n",
    "#     hti = html2image.Html2Image(size=(1080, 800), output_path=\"./imgs/\" + dirname)\n",
    "#     for item in os.listdir(f\"./html/{dirname}\"):\n",
    "#         name = item[:item.index(\".html\")]\n",
    "#         hti.screenshot(html_file=f\"./html/{dirname}/{name}.html\", css_str=\"\", save_as=f\"{name}.png\")"
   ]
  },
  {
   "cell_type": "code",
   "execution_count": null,
   "metadata": {},
   "outputs": [],
   "source": []
  }
 ],
 "metadata": {
  "kernelspec": {
   "display_name": "torch",
   "language": "python",
   "name": "python3"
  },
  "language_info": {
   "codemirror_mode": {
    "name": "ipython",
    "version": 3
   },
   "file_extension": ".py",
   "mimetype": "text/x-python",
   "name": "python",
   "nbconvert_exporter": "python",
   "pygments_lexer": "ipython3",
   "version": "3.11.0"
  }
 },
 "nbformat": 4,
 "nbformat_minor": 2
}
