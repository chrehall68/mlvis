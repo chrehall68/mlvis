{
 "cells": [
  {
   "cell_type": "code",
   "execution_count": 1,
   "metadata": {},
   "outputs": [],
   "source": [
    "import os"
   ]
  },
  {
   "cell_type": "code",
   "execution_count": 2,
   "metadata": {},
   "outputs": [],
   "source": [
    "starter = \"\"\"<table width: 100%><div style=\"border-top: 1px solid; margin-top: 5px;             padding-top: 5px; display: inline-block\"><b>Legend: </b><span style=\"display: inline-block; width: 10px; height: 10px;                 border: 1px solid; background-color:                 hsl(0, 75%, 60%)\"></span> Negative  <span style=\"display: inline-block; width: 10px; height: 10px;                 border: 1px solid; background-color:                 hsl(0, 75%, 100%)\"></span> Neutral  <span style=\"display: inline-block; width: 10px; height: 10px;                 border: 1px solid; background-color:                 hsl(120, 75%, 50%)\"></span> Positive  </div><tr><th>Predicted Label</th><th>Experiment Type</th><th>Word Importance</th></tr>\"\"\"\n",
    "end = \"\"\"</table>\"\"\"\n",
    "style = \"\"\"style=\"border-bottom: 1px solid black;\" \"\"\"\n",
    "\n",
    "def to_row_format(result:str, expname:str, tdmarkstuff:str):\n",
    "    return f\"\"\"<tr><td>{result}</td><td {style}><b>{expname}</b></td>{tdmarkstuff.replace(start_str, f\"<td {style}><mark\")}</tr>\\n\\n\"\"\"\n",
    "\n",
    "start_str = \"<td><mark\"\n",
    "end_str = \"<tr></table>\"\n",
    "\n",
    "label_start_str = \"<tr><td><text\"\n",
    "label_end_str = \"</b></text>\""
   ]
  },
  {
   "cell_type": "code",
   "execution_count": null,
   "metadata": {},
   "outputs": [],
   "source": [
    "ds = \"liar\"\n",
    "for i in range(40):\n",
    "    for exp in ['ig', 'lime', 'shap']:\n",
    "        result = starter\n",
    "        for model in os.listdir(f\"./html/{ds}/{exp}\"):\n",
    "            html_file = open(f\"./html/{ds}/{exp}/{model}/{i}.html\").read()\n",
    "            start_idx = html_file.index(start_str)\n",
    "            last_idx = html_file.index(end_str)-len(end_str)\n",
    "\n",
    "            temp = \"\"\n",
    "            if exp == \"ig\":\n",
    "                temp = html_file[html_file.index(label_start_str)+8:html_file.index(label_end_str)]                \n",
    "            result += to_row_format(temp, exp, html_file[start_idx:last_idx])\n",
    "        result += end\n",
    "        if not os.path.exists(f\"./html/{ds}/combined/{model}/\"):\n",
    "            os.makedirs(f\"./html/{ds}/combined/{model}/\")\n",
    "        open(f\"./html/{ds}/combined/{model}/{i}.html\", \"w\").write(result)\n"
   ]
  },
  {
   "cell_type": "code",
   "execution_count": null,
   "metadata": {},
   "outputs": [],
   "source": []
  }
 ],
 "metadata": {
  "kernelspec": {
   "display_name": "torch",
   "language": "python",
   "name": "python3"
  },
  "language_info": {
   "codemirror_mode": {
    "name": "ipython",
    "version": 3
   },
   "file_extension": ".py",
   "mimetype": "text/x-python",
   "name": "python",
   "nbconvert_exporter": "python",
   "pygments_lexer": "ipython3",
   "version": "3.11.0"
  }
 },
 "nbformat": 4,
 "nbformat_minor": 2
}
